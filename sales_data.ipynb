{
 "cells": [
  {
   "cell_type": "markdown",
   "id": "d08179cd-12f0-439b-8e01-0196f9231f32",
   "metadata": {},
   "source": [
    "# Step 1: Data Collection"
   ]
  },
  {
   "cell_type": "code",
   "execution_count": 161,
   "id": "e32519b5-187f-4c16-bfbd-0098b643b62b",
   "metadata": {},
   "outputs": [
    {
     "name": "stdout",
     "output_type": "stream",
     "text": [
      "Requirement already satisfied: scikit-learn in d:\\anaconda\\lib\\site-packages (1.5.0)\n",
      "Requirement already satisfied: numpy>=1.19.5 in d:\\anaconda\\lib\\site-packages (from scikit-learn) (1.26.4)\n",
      "Requirement already satisfied: scipy>=1.6.0 in d:\\anaconda\\lib\\site-packages (from scikit-learn) (1.11.4)\n",
      "Requirement already satisfied: joblib>=1.2.0 in d:\\anaconda\\lib\\site-packages (from scikit-learn) (1.2.0)\n",
      "Requirement already satisfied: threadpoolctl>=3.1.0 in d:\\anaconda\\lib\\site-packages (from scikit-learn) (3.5.0)\n"
     ]
    }
   ],
   "source": [
    "!pip install -U scikit-learn"
   ]
  },
  {
   "cell_type": "markdown",
   "id": "f81c3702-f24c-4d01-b241-c46a6110b662",
   "metadata": {},
   "source": [
    "##Step 1: Install Necessary Libraries"
   ]
  },
  {
   "cell_type": "code",
   "execution_count": 162,
   "id": "71ead8b4-7dab-4624-80b7-9e3bbfb684ef",
   "metadata": {},
   "outputs": [
    {
     "name": "stdout",
     "output_type": "stream",
     "text": [
      "Collecting sqlalchemy==1.3.9\n",
      "  Using cached SQLAlchemy-1.3.9-cp311-cp311-win_amd64.whl\n",
      "Installing collected packages: sqlalchemy\n",
      "  Attempting uninstall: sqlalchemy\n",
      "    Found existing installation: SQLAlchemy 2.0.31\n",
      "    Uninstalling SQLAlchemy-2.0.31:\n",
      "      Successfully uninstalled SQLAlchemy-2.0.31\n",
      "Successfully installed sqlalchemy-1.3.9\n"
     ]
    },
    {
     "name": "stderr",
     "output_type": "stream",
     "text": [
      "ERROR: pip's dependency resolver does not currently take into account all the packages that are installed. This behaviour is the source of the following dependency conflicts.\n",
      "ipython-sql 0.5.0 requires sqlalchemy>=2.0, but you have sqlalchemy 1.3.9 which is incompatible.\n"
     ]
    }
   ],
   "source": [
    "!pip install sqlalchemy==1.3.9"
   ]
  },
  {
   "cell_type": "code",
   "execution_count": 163,
   "id": "45712ea1-6339-47b3-82c9-93524a29f8fb",
   "metadata": {},
   "outputs": [
    {
     "name": "stdout",
     "output_type": "stream",
     "text": [
      "Requirement already satisfied: ipython-sql in d:\\anaconda\\lib\\site-packages (0.5.0)\n",
      "Requirement already satisfied: prettytable in d:\\anaconda\\lib\\site-packages (from ipython-sql) (3.10.0)\n",
      "Requirement already satisfied: ipython in d:\\anaconda\\lib\\site-packages (from ipython-sql) (8.20.0)\n",
      "Collecting sqlalchemy>=2.0 (from ipython-sql)\n",
      "  Using cached SQLAlchemy-2.0.31-cp311-cp311-win_amd64.whl.metadata (9.9 kB)\n",
      "Requirement already satisfied: sqlparse in d:\\anaconda\\lib\\site-packages (from ipython-sql) (0.5.0)\n",
      "Requirement already satisfied: six in d:\\anaconda\\lib\\site-packages (from ipython-sql) (1.16.0)\n",
      "Requirement already satisfied: ipython-genutils in d:\\anaconda\\lib\\site-packages (from ipython-sql) (0.2.0)\n",
      "Requirement already satisfied: typing-extensions>=4.6.0 in d:\\anaconda\\lib\\site-packages (from sqlalchemy>=2.0->ipython-sql) (4.9.0)\n",
      "Requirement already satisfied: greenlet!=0.4.17 in d:\\anaconda\\lib\\site-packages (from sqlalchemy>=2.0->ipython-sql) (3.0.1)\n",
      "Requirement already satisfied: decorator in d:\\anaconda\\lib\\site-packages (from ipython->ipython-sql) (5.1.1)\n",
      "Requirement already satisfied: jedi>=0.16 in d:\\anaconda\\lib\\site-packages (from ipython->ipython-sql) (0.18.1)\n",
      "Requirement already satisfied: matplotlib-inline in d:\\anaconda\\lib\\site-packages (from ipython->ipython-sql) (0.1.6)\n",
      "Requirement already satisfied: prompt-toolkit<3.1.0,>=3.0.41 in d:\\anaconda\\lib\\site-packages (from ipython->ipython-sql) (3.0.43)\n",
      "Requirement already satisfied: pygments>=2.4.0 in d:\\anaconda\\lib\\site-packages (from ipython->ipython-sql) (2.15.1)\n",
      "Requirement already satisfied: stack-data in d:\\anaconda\\lib\\site-packages (from ipython->ipython-sql) (0.2.0)\n",
      "Requirement already satisfied: traitlets>=5 in d:\\anaconda\\lib\\site-packages (from ipython->ipython-sql) (5.7.1)\n",
      "Requirement already satisfied: colorama in d:\\anaconda\\lib\\site-packages (from ipython->ipython-sql) (0.4.6)\n",
      "Requirement already satisfied: wcwidth in d:\\anaconda\\lib\\site-packages (from prettytable->ipython-sql) (0.2.5)\n",
      "Requirement already satisfied: parso<0.9.0,>=0.8.0 in d:\\anaconda\\lib\\site-packages (from jedi>=0.16->ipython->ipython-sql) (0.8.3)\n",
      "Requirement already satisfied: executing in d:\\anaconda\\lib\\site-packages (from stack-data->ipython->ipython-sql) (0.8.3)\n",
      "Requirement already satisfied: asttokens in d:\\anaconda\\lib\\site-packages (from stack-data->ipython->ipython-sql) (2.0.5)\n",
      "Requirement already satisfied: pure-eval in d:\\anaconda\\lib\\site-packages (from stack-data->ipython->ipython-sql) (0.2.2)\n",
      "Using cached SQLAlchemy-2.0.31-cp311-cp311-win_amd64.whl (2.1 MB)\n",
      "Installing collected packages: sqlalchemy\n",
      "  Attempting uninstall: sqlalchemy\n",
      "    Found existing installation: SQLAlchemy 1.3.9\n",
      "    Uninstalling SQLAlchemy-1.3.9:\n",
      "      Successfully uninstalled SQLAlchemy-1.3.9\n",
      "Successfully installed sqlalchemy-2.0.31\n"
     ]
    }
   ],
   "source": [
    "!pip install ipython-sql"
   ]
  },
  {
   "cell_type": "code",
   "execution_count": 164,
   "id": "c1652f05-ef42-4382-9333-2663ab9fedec",
   "metadata": {},
   "outputs": [],
   "source": [
    "import pandas as pd\n",
    "import matplotlib.pyplot as plt\n",
    "import numpy as np\n",
    "import seaborn as sns\n",
    "from sklearn.pipeline import Pipeline\n",
    "from sklearn.preprocessing import StandardScaler,PolynomialFeatures\n",
    "from sklearn.linear_model import LinearRegression\n",
    "%matplotlib inline"
   ]
  },
  {
   "cell_type": "code",
   "execution_count": 165,
   "id": "44821e45-55d5-4624-bc0b-1ebac19bf7c1",
   "metadata": {},
   "outputs": [
    {
     "name": "stdout",
     "output_type": "stream",
     "text": [
      "The sql extension is already loaded. To reload it, use:\n",
      "  %reload_ext sql\n"
     ]
    }
   ],
   "source": [
    "%load_ext sql"
   ]
  },
  {
   "cell_type": "code",
   "execution_count": 166,
   "id": "c770ac1c-b057-478f-a477-7855b254d785",
   "metadata": {},
   "outputs": [],
   "source": [
    "import csv, sqlite3"
   ]
  },
  {
   "cell_type": "code",
   "execution_count": 167,
   "id": "7961fa74-f5f3-4586-b5c6-a4200d24a5d1",
   "metadata": {},
   "outputs": [],
   "source": [
    "import requests\n",
    "import datetime"
   ]
  },
  {
   "cell_type": "code",
   "execution_count": 168,
   "id": "ab84bc41-d806-4a98-a1fd-d77afdf9f398",
   "metadata": {},
   "outputs": [],
   "source": [
    "# print all collumns of a dataframe\n",
    "pd.set_option('display.max_columns', None)\n",
    "# print all of the data in a feature\n",
    "pd.set_option('display.max_colwidth', None)"
   ]
  },
  {
   "cell_type": "code",
   "execution_count": 169,
   "id": "2100bec6-ff36-4a74-8393-d0c44f2da4e7",
   "metadata": {},
   "outputs": [
    {
     "data": {
      "text/html": [
       "<div>\n",
       "<style scoped>\n",
       "    .dataframe tbody tr th:only-of-type {\n",
       "        vertical-align: middle;\n",
       "    }\n",
       "\n",
       "    .dataframe tbody tr th {\n",
       "        vertical-align: top;\n",
       "    }\n",
       "\n",
       "    .dataframe thead th {\n",
       "        text-align: right;\n",
       "    }\n",
       "</style>\n",
       "<table border=\"1\" class=\"dataframe\">\n",
       "  <thead>\n",
       "    <tr style=\"text-align: right;\">\n",
       "      <th></th>\n",
       "      <th>date</th>\n",
       "      <th>product</th>\n",
       "      <th>category</th>\n",
       "      <th>price</th>\n",
       "      <th>quantity</th>\n",
       "      <th>revenue</th>\n",
       "    </tr>\n",
       "  </thead>\n",
       "  <tbody>\n",
       "    <tr>\n",
       "      <th>0</th>\n",
       "      <td>2022-01-01</td>\n",
       "      <td>Smartphone</td>\n",
       "      <td>Electronics</td>\n",
       "      <td>600.0</td>\n",
       "      <td>10.0</td>\n",
       "      <td>6000.0</td>\n",
       "    </tr>\n",
       "    <tr>\n",
       "      <th>1</th>\n",
       "      <td>2022-01-01</td>\n",
       "      <td>Laptop</td>\n",
       "      <td>Electronics</td>\n",
       "      <td>1200.0</td>\n",
       "      <td>5.0</td>\n",
       "      <td>6000.0</td>\n",
       "    </tr>\n",
       "    <tr>\n",
       "      <th>2</th>\n",
       "      <td>2022-01-02</td>\n",
       "      <td>T-Shirt</td>\n",
       "      <td>Clothing</td>\n",
       "      <td>20.0</td>\n",
       "      <td>50.0</td>\n",
       "      <td>1000.0</td>\n",
       "    </tr>\n",
       "    <tr>\n",
       "      <th>3</th>\n",
       "      <td>2022-01-03</td>\n",
       "      <td>Headphones</td>\n",
       "      <td>Electronics</td>\n",
       "      <td>100.0</td>\n",
       "      <td>20.0</td>\n",
       "      <td>2000.0</td>\n",
       "    </tr>\n",
       "    <tr>\n",
       "      <th>4</th>\n",
       "      <td>2022-01-04</td>\n",
       "      <td>T-Shirt</td>\n",
       "      <td>Clothing</td>\n",
       "      <td>20.0</td>\n",
       "      <td>25.0</td>\n",
       "      <td>500.0</td>\n",
       "    </tr>\n",
       "  </tbody>\n",
       "</table>\n",
       "</div>"
      ],
      "text/plain": [
       "         date     product     category   price  quantity  revenue\n",
       "0  2022-01-01  Smartphone  Electronics   600.0      10.0   6000.0\n",
       "1  2022-01-01      Laptop  Electronics  1200.0       5.0   6000.0\n",
       "2  2022-01-02     T-Shirt     Clothing    20.0      50.0   1000.0\n",
       "3  2022-01-03  Headphones  Electronics   100.0      20.0   2000.0\n",
       "4  2022-01-04     T-Shirt     Clothing    20.0      25.0    500.0"
      ]
     },
     "execution_count": 169,
     "metadata": {},
     "output_type": "execute_result"
    }
   ],
   "source": [
    "# read dataset and display the first 5 rows\n",
    "df = pd.read_csv('sales_data.csv')\n",
    "df.head()\n"
   ]
  },
  {
   "cell_type": "markdown",
   "id": "207d857c-92d6-407d-8fa2-e0a91e7d3654",
   "metadata": {},
   "source": [
    "# Step 2: Data Cleaning"
   ]
  },
  {
   "cell_type": "code",
   "execution_count": 170,
   "id": "e9647bdc-c8d3-498b-9e6d-3c65fa3b2f2b",
   "metadata": {},
   "outputs": [
    {
     "data": {
      "text/plain": [
       "date         object\n",
       "product      object\n",
       "category     object\n",
       "price       float64\n",
       "quantity    float64\n",
       "revenue     float64\n",
       "dtype: object"
      ]
     },
     "execution_count": 170,
     "metadata": {},
     "output_type": "execute_result"
    }
   ],
   "source": [
    "# identify the data types for each column\n",
    "df.dtypes"
   ]
  },
  {
   "cell_type": "code",
   "execution_count": 171,
   "id": "a929b805-803c-4b6c-9a4a-d56cb6035c37",
   "metadata": {},
   "outputs": [
    {
     "data": {
      "text/plain": [
       "date        0.000000\n",
       "product     0.000000\n",
       "category    0.000000\n",
       "price       0.542005\n",
       "quantity    0.271003\n",
       "revenue     0.271003\n",
       "dtype: float64"
      ]
     },
     "execution_count": 171,
     "metadata": {},
     "output_type": "execute_result"
    }
   ],
   "source": [
    "#calculate missing values\n",
    "df.isnull().sum()/len(df)*100"
   ]
  },
  {
   "cell_type": "code",
   "execution_count": 172,
   "id": "4dd90d54-85e4-4523-84a1-7b90896ab1e5",
   "metadata": {},
   "outputs": [
    {
     "data": {
      "text/html": [
       "<div>\n",
       "<style scoped>\n",
       "    .dataframe tbody tr th:only-of-type {\n",
       "        vertical-align: middle;\n",
       "    }\n",
       "\n",
       "    .dataframe tbody tr th {\n",
       "        vertical-align: top;\n",
       "    }\n",
       "\n",
       "    .dataframe thead th {\n",
       "        text-align: right;\n",
       "    }\n",
       "</style>\n",
       "<table border=\"1\" class=\"dataframe\">\n",
       "  <thead>\n",
       "    <tr style=\"text-align: right;\">\n",
       "      <th></th>\n",
       "      <th>count</th>\n",
       "    </tr>\n",
       "    <tr>\n",
       "      <th>product</th>\n",
       "      <th></th>\n",
       "    </tr>\n",
       "  </thead>\n",
       "  <tbody>\n",
       "    <tr>\n",
       "      <th>Smartphone</th>\n",
       "      <td>82</td>\n",
       "    </tr>\n",
       "    <tr>\n",
       "      <th>T-Shirt</th>\n",
       "      <td>38</td>\n",
       "    </tr>\n",
       "    <tr>\n",
       "      <th>Smartwatch</th>\n",
       "      <td>36</td>\n",
       "    </tr>\n",
       "    <tr>\n",
       "      <th>Coat</th>\n",
       "      <td>35</td>\n",
       "    </tr>\n",
       "    <tr>\n",
       "      <th>Speaker</th>\n",
       "      <td>25</td>\n",
       "    </tr>\n",
       "    <tr>\n",
       "      <th>Backpack</th>\n",
       "      <td>24</td>\n",
       "    </tr>\n",
       "    <tr>\n",
       "      <th>Hoodie</th>\n",
       "      <td>24</td>\n",
       "    </tr>\n",
       "    <tr>\n",
       "      <th>Sneakers</th>\n",
       "      <td>24</td>\n",
       "    </tr>\n",
       "    <tr>\n",
       "      <th>Jeans</th>\n",
       "      <td>24</td>\n",
       "    </tr>\n",
       "    <tr>\n",
       "      <th>Watch</th>\n",
       "      <td>22</td>\n",
       "    </tr>\n",
       "    <tr>\n",
       "      <th>Headphones</th>\n",
       "      <td>13</td>\n",
       "    </tr>\n",
       "    <tr>\n",
       "      <th>Wallet</th>\n",
       "      <td>12</td>\n",
       "    </tr>\n",
       "    <tr>\n",
       "      <th>Tablet</th>\n",
       "      <td>9</td>\n",
       "    </tr>\n",
       "    <tr>\n",
       "      <th>Laptop</th>\n",
       "      <td>1</td>\n",
       "    </tr>\n",
       "  </tbody>\n",
       "</table>\n",
       "</div>"
      ],
      "text/plain": [
       "            count\n",
       "product          \n",
       "Smartphone     82\n",
       "T-Shirt        38\n",
       "Smartwatch     36\n",
       "Coat           35\n",
       "Speaker        25\n",
       "Backpack       24\n",
       "Hoodie         24\n",
       "Sneakers       24\n",
       "Jeans          24\n",
       "Watch          22\n",
       "Headphones     13\n",
       "Wallet         12\n",
       "Tablet          9\n",
       "Laptop          1"
      ]
     },
     "execution_count": 172,
     "metadata": {},
     "output_type": "execute_result"
    }
   ],
   "source": [
    "# using value_counts() for the different types of products\n",
    "df['product'].value_counts().to_frame()"
   ]
  },
  {
   "cell_type": "code",
   "execution_count": 173,
   "id": "0dd2a7e2-5e1e-4054-be23-5069d6348a29",
   "metadata": {},
   "outputs": [
    {
     "data": {
      "text/html": [
       "<div>\n",
       "<style scoped>\n",
       "    .dataframe tbody tr th:only-of-type {\n",
       "        vertical-align: middle;\n",
       "    }\n",
       "\n",
       "    .dataframe tbody tr th {\n",
       "        vertical-align: top;\n",
       "    }\n",
       "\n",
       "    .dataframe thead th {\n",
       "        text-align: right;\n",
       "    }\n",
       "</style>\n",
       "<table border=\"1\" class=\"dataframe\">\n",
       "  <thead>\n",
       "    <tr style=\"text-align: right;\">\n",
       "      <th></th>\n",
       "      <th>price</th>\n",
       "      <th>quantity</th>\n",
       "      <th>revenue</th>\n",
       "    </tr>\n",
       "  </thead>\n",
       "  <tbody>\n",
       "    <tr>\n",
       "      <th>count</th>\n",
       "      <td>367.000000</td>\n",
       "      <td>368.000000</td>\n",
       "      <td>368.000000</td>\n",
       "    </tr>\n",
       "    <tr>\n",
       "      <th>mean</th>\n",
       "      <td>211.226158</td>\n",
       "      <td>14.565217</td>\n",
       "      <td>2060.679348</td>\n",
       "    </tr>\n",
       "    <tr>\n",
       "      <th>std</th>\n",
       "      <td>227.335170</td>\n",
       "      <td>8.595740</td>\n",
       "      <td>1910.930790</td>\n",
       "    </tr>\n",
       "    <tr>\n",
       "      <th>min</th>\n",
       "      <td>20.000000</td>\n",
       "      <td>3.000000</td>\n",
       "      <td>300.000000</td>\n",
       "    </tr>\n",
       "    <tr>\n",
       "      <th>25%</th>\n",
       "      <td>50.000000</td>\n",
       "      <td>8.000000</td>\n",
       "      <td>800.000000</td>\n",
       "    </tr>\n",
       "    <tr>\n",
       "      <th>50%</th>\n",
       "      <td>100.000000</td>\n",
       "      <td>12.000000</td>\n",
       "      <td>1200.000000</td>\n",
       "    </tr>\n",
       "    <tr>\n",
       "      <th>75%</th>\n",
       "      <td>300.000000</td>\n",
       "      <td>20.000000</td>\n",
       "      <td>2400.000000</td>\n",
       "    </tr>\n",
       "    <tr>\n",
       "      <th>max</th>\n",
       "      <td>1200.000000</td>\n",
       "      <td>50.000000</td>\n",
       "      <td>7200.000000</td>\n",
       "    </tr>\n",
       "  </tbody>\n",
       "</table>\n",
       "</div>"
      ],
      "text/plain": [
       "             price    quantity      revenue\n",
       "count   367.000000  368.000000   368.000000\n",
       "mean    211.226158   14.565217  2060.679348\n",
       "std     227.335170    8.595740  1910.930790\n",
       "min      20.000000    3.000000   300.000000\n",
       "25%      50.000000    8.000000   800.000000\n",
       "50%     100.000000   12.000000  1200.000000\n",
       "75%     300.000000   20.000000  2400.000000\n",
       "max    1200.000000   50.000000  7200.000000"
      ]
     },
     "execution_count": 173,
     "metadata": {},
     "output_type": "execute_result"
    }
   ],
   "source": [
    "df.describe()"
   ]
  },
  {
   "cell_type": "code",
   "execution_count": 174,
   "id": "7406b5ff-7030-415d-b726-12b82daccac4",
   "metadata": {},
   "outputs": [
    {
     "name": "stdout",
     "output_type": "stream",
     "text": [
      "number of NaN values for the column price : 2\n",
      "number of NaN values for the column quantity : 1\n",
      "number of NaN values for the column revenue : 1\n"
     ]
    }
   ],
   "source": [
    "#printing the number of missing values based on what was found \n",
    "print(\"number of NaN values for the column price :\", df['price'].isnull().sum())\n",
    "print(\"number of NaN values for the column quantity :\", df['quantity'].isnull().sum())\n",
    "print(\"number of NaN values for the column revenue :\", df['revenue'].isnull().sum())"
   ]
  },
  {
   "cell_type": "markdown",
   "id": "eb16419e-22e2-4ab0-90e0-de87fb26c760",
   "metadata": {},
   "source": [
    "##### One of the methods to clean the data is to replace the missing values with the mean of the column "
   ]
  },
  {
   "cell_type": "code",
   "execution_count": 175,
   "id": "e1b39074-14dc-412c-a1c6-2f49d09f04eb",
   "metadata": {},
   "outputs": [],
   "source": [
    "#replacing missing values of the column 'price' with the mean using replace() method\n",
    "price_mean = df['price'].mean()\n",
    "df['price'].replace(np.nan,price_mean,inplace = True)"
   ]
  },
  {
   "cell_type": "code",
   "execution_count": 176,
   "id": "c2709c58-3ad1-4483-9a62-bfac9af164fc",
   "metadata": {},
   "outputs": [],
   "source": [
    "#replacing missing values of the column 'quantity' with the mean using replace() method\n",
    "quantity_mean = df['quantity'].mean()\n",
    "df['quantity'].replace(np.nan,quantity_mean,inplace = True)"
   ]
  },
  {
   "cell_type": "code",
   "execution_count": 177,
   "id": "daf5788e-c55d-49c0-b1d8-592f30126c78",
   "metadata": {},
   "outputs": [],
   "source": [
    "#replacing missing values of the column 'revenue' with the mean using replace() method\n",
    "revenue_mean = df['revenue'].mean()\n",
    "df['revenue'].replace(np.nan,revenue_mean,inplace = True)"
   ]
  },
  {
   "cell_type": "code",
   "execution_count": 178,
   "id": "4f566a77-2562-47a6-9888-8062636d47c4",
   "metadata": {},
   "outputs": [
    {
     "name": "stdout",
     "output_type": "stream",
     "text": [
      "number of NaN values for the column price : 0\n",
      "number of NaN values for the column quantity : 0\n",
      "number of NaN values for the column revenue : 0\n"
     ]
    }
   ],
   "source": [
    "#checking for any missing values\n",
    "print(\"number of NaN values for the column price :\", df['price'].isnull().sum())\n",
    "print(\"number of NaN values for the column quantity :\", df['quantity'].isnull().sum())\n",
    "print(\"number of NaN values for the column revenue :\", df['revenue'].isnull().sum())"
   ]
  },
  {
   "cell_type": "code",
   "execution_count": 179,
   "id": "c1d11ef7-53b7-423c-adb4-06c3e2f93fbd",
   "metadata": {},
   "outputs": [
    {
     "data": {
      "text/html": [
       "<div>\n",
       "<style scoped>\n",
       "    .dataframe tbody tr th:only-of-type {\n",
       "        vertical-align: middle;\n",
       "    }\n",
       "\n",
       "    .dataframe tbody tr th {\n",
       "        vertical-align: top;\n",
       "    }\n",
       "\n",
       "    .dataframe thead th {\n",
       "        text-align: right;\n",
       "    }\n",
       "</style>\n",
       "<table border=\"1\" class=\"dataframe\">\n",
       "  <thead>\n",
       "    <tr style=\"text-align: right;\">\n",
       "      <th></th>\n",
       "      <th>count</th>\n",
       "    </tr>\n",
       "    <tr>\n",
       "      <th>product</th>\n",
       "      <th></th>\n",
       "    </tr>\n",
       "  </thead>\n",
       "  <tbody>\n",
       "    <tr>\n",
       "      <th>Smartphone</th>\n",
       "      <td>82</td>\n",
       "    </tr>\n",
       "    <tr>\n",
       "      <th>T-Shirt</th>\n",
       "      <td>38</td>\n",
       "    </tr>\n",
       "    <tr>\n",
       "      <th>Smartwatch</th>\n",
       "      <td>36</td>\n",
       "    </tr>\n",
       "    <tr>\n",
       "      <th>Coat</th>\n",
       "      <td>35</td>\n",
       "    </tr>\n",
       "    <tr>\n",
       "      <th>Speaker</th>\n",
       "      <td>25</td>\n",
       "    </tr>\n",
       "    <tr>\n",
       "      <th>Backpack</th>\n",
       "      <td>24</td>\n",
       "    </tr>\n",
       "    <tr>\n",
       "      <th>Hoodie</th>\n",
       "      <td>24</td>\n",
       "    </tr>\n",
       "    <tr>\n",
       "      <th>Sneakers</th>\n",
       "      <td>24</td>\n",
       "    </tr>\n",
       "    <tr>\n",
       "      <th>Jeans</th>\n",
       "      <td>24</td>\n",
       "    </tr>\n",
       "    <tr>\n",
       "      <th>Watch</th>\n",
       "      <td>22</td>\n",
       "    </tr>\n",
       "    <tr>\n",
       "      <th>Headphones</th>\n",
       "      <td>13</td>\n",
       "    </tr>\n",
       "    <tr>\n",
       "      <th>Wallet</th>\n",
       "      <td>12</td>\n",
       "    </tr>\n",
       "    <tr>\n",
       "      <th>Tablet</th>\n",
       "      <td>9</td>\n",
       "    </tr>\n",
       "    <tr>\n",
       "      <th>Laptop</th>\n",
       "      <td>1</td>\n",
       "    </tr>\n",
       "  </tbody>\n",
       "</table>\n",
       "</div>"
      ],
      "text/plain": [
       "            count\n",
       "product          \n",
       "Smartphone     82\n",
       "T-Shirt        38\n",
       "Smartwatch     36\n",
       "Coat           35\n",
       "Speaker        25\n",
       "Backpack       24\n",
       "Hoodie         24\n",
       "Sneakers       24\n",
       "Jeans          24\n",
       "Watch          22\n",
       "Headphones     13\n",
       "Wallet         12\n",
       "Tablet          9\n",
       "Laptop          1"
      ]
     },
     "execution_count": 179,
     "metadata": {},
     "output_type": "execute_result"
    }
   ],
   "source": [
    "df['product'].value_counts().to_frame()"
   ]
  },
  {
   "cell_type": "markdown",
   "id": "3b1d54cf-06a3-4d79-b743-059f6fec53b0",
   "metadata": {},
   "source": [
    "##### Often times, people usually do spelling mistakes which can affect the dataset. To fix this issue, we use the 'str.replace()' method to rename the column values appropriately"
   ]
  },
  {
   "cell_type": "code",
   "execution_count": 180,
   "id": "71717b30-967b-4833-b70d-bac880da69f0",
   "metadata": {},
   "outputs": [
    {
     "data": {
      "text/html": [
       "<div>\n",
       "<style scoped>\n",
       "    .dataframe tbody tr th:only-of-type {\n",
       "        vertical-align: middle;\n",
       "    }\n",
       "\n",
       "    .dataframe tbody tr th {\n",
       "        vertical-align: top;\n",
       "    }\n",
       "\n",
       "    .dataframe thead th {\n",
       "        text-align: right;\n",
       "    }\n",
       "</style>\n",
       "<table border=\"1\" class=\"dataframe\">\n",
       "  <thead>\n",
       "    <tr style=\"text-align: right;\">\n",
       "      <th></th>\n",
       "      <th>count</th>\n",
       "    </tr>\n",
       "    <tr>\n",
       "      <th>category</th>\n",
       "      <th></th>\n",
       "    </tr>\n",
       "  </thead>\n",
       "  <tbody>\n",
       "    <tr>\n",
       "      <th>Electronics</th>\n",
       "      <td>130</td>\n",
       "    </tr>\n",
       "    <tr>\n",
       "      <th>Clothing</th>\n",
       "      <td>120</td>\n",
       "    </tr>\n",
       "    <tr>\n",
       "      <th>Accessories</th>\n",
       "      <td>70</td>\n",
       "    </tr>\n",
       "    <tr>\n",
       "      <th>Bags</th>\n",
       "      <td>23</td>\n",
       "    </tr>\n",
       "    <tr>\n",
       "      <th>Shoes</th>\n",
       "      <td>23</td>\n",
       "    </tr>\n",
       "    <tr>\n",
       "      <th>Clohting</th>\n",
       "      <td>1</td>\n",
       "    </tr>\n",
       "    <tr>\n",
       "      <th>Bgas</th>\n",
       "      <td>1</td>\n",
       "    </tr>\n",
       "    <tr>\n",
       "      <th>Shoeses</th>\n",
       "      <td>1</td>\n",
       "    </tr>\n",
       "  </tbody>\n",
       "</table>\n",
       "</div>"
      ],
      "text/plain": [
       "             count\n",
       "category          \n",
       "Electronics    130\n",
       "Clothing       120\n",
       "Accessories     70\n",
       "Bags            23\n",
       "Shoes           23\n",
       "Clohting         1\n",
       "Bgas             1\n",
       "Shoeses          1"
      ]
     },
     "execution_count": 180,
     "metadata": {},
     "output_type": "execute_result"
    }
   ],
   "source": [
    "df['category'].value_counts().to_frame()"
   ]
  },
  {
   "cell_type": "code",
   "execution_count": 181,
   "id": "62a00641-daf9-4f10-b876-1e5f0246e9f5",
   "metadata": {},
   "outputs": [],
   "source": [
    "#renaming the column value 'Bgas' \n",
    "df['category'] = df['category'].str.replace('Bgas','Bags')"
   ]
  },
  {
   "cell_type": "code",
   "execution_count": 182,
   "id": "d1df509b-bf3e-457b-a11f-701ec90cd069",
   "metadata": {},
   "outputs": [],
   "source": [
    "#renaming the column value 'Shoeses' \n",
    "df['category'] = df['category'].str.replace('Shoeses','Shoes')"
   ]
  },
  {
   "cell_type": "code",
   "execution_count": 183,
   "id": "b311152d-759c-461e-9177-2e1a0ca42a04",
   "metadata": {},
   "outputs": [],
   "source": [
    "#renaming the column value 'Clohting' \n",
    "df['category'] = df['category'].str.replace('Clohting','Clothing')"
   ]
  },
  {
   "cell_type": "markdown",
   "id": "0191e7c6-1cd2-46ae-ba1c-a3fc149d2d83",
   "metadata": {},
   "source": [
    "##### After fixing the spelling mistakes for the values, we then notice that 'Clothing', 'Bags' and 'Shoes' have been increased by 1, making it easier to use the column without spelling concerns"
   ]
  },
  {
   "cell_type": "code",
   "execution_count": 184,
   "id": "b4cb1af2-b7b2-4988-b7a7-d292c1f7ffa2",
   "metadata": {},
   "outputs": [
    {
     "data": {
      "text/html": [
       "<div>\n",
       "<style scoped>\n",
       "    .dataframe tbody tr th:only-of-type {\n",
       "        vertical-align: middle;\n",
       "    }\n",
       "\n",
       "    .dataframe tbody tr th {\n",
       "        vertical-align: top;\n",
       "    }\n",
       "\n",
       "    .dataframe thead th {\n",
       "        text-align: right;\n",
       "    }\n",
       "</style>\n",
       "<table border=\"1\" class=\"dataframe\">\n",
       "  <thead>\n",
       "    <tr style=\"text-align: right;\">\n",
       "      <th></th>\n",
       "      <th>count</th>\n",
       "    </tr>\n",
       "    <tr>\n",
       "      <th>category</th>\n",
       "      <th></th>\n",
       "    </tr>\n",
       "  </thead>\n",
       "  <tbody>\n",
       "    <tr>\n",
       "      <th>Electronics</th>\n",
       "      <td>130</td>\n",
       "    </tr>\n",
       "    <tr>\n",
       "      <th>Clothing</th>\n",
       "      <td>121</td>\n",
       "    </tr>\n",
       "    <tr>\n",
       "      <th>Accessories</th>\n",
       "      <td>70</td>\n",
       "    </tr>\n",
       "    <tr>\n",
       "      <th>Bags</th>\n",
       "      <td>24</td>\n",
       "    </tr>\n",
       "    <tr>\n",
       "      <th>Shoes</th>\n",
       "      <td>24</td>\n",
       "    </tr>\n",
       "  </tbody>\n",
       "</table>\n",
       "</div>"
      ],
      "text/plain": [
       "             count\n",
       "category          \n",
       "Electronics    130\n",
       "Clothing       121\n",
       "Accessories     70\n",
       "Bags            24\n",
       "Shoes           24"
      ]
     },
     "execution_count": 184,
     "metadata": {},
     "output_type": "execute_result"
    }
   ],
   "source": [
    "df['category'].value_counts().to_frame()"
   ]
  },
  {
   "cell_type": "code",
   "execution_count": 185,
   "id": "9fd0974d-d436-4ac4-8971-b3fe5736240a",
   "metadata": {},
   "outputs": [],
   "source": [
    "# Convert float64 columns to int64 using astype()\n",
    "df['quantity'] = df['quantity'].astype('int64')\n",
    "df['price'] = df['price'].astype('int64')\n",
    "df['revenue'] = df['revenue'].astype('int64')"
   ]
  },
  {
   "cell_type": "code",
   "execution_count": 186,
   "id": "f6b58d3f-bb26-4246-8d55-7f9cf4aac47b",
   "metadata": {},
   "outputs": [
    {
     "data": {
      "text/plain": [
       "date        object\n",
       "product     object\n",
       "category    object\n",
       "price        int64\n",
       "quantity     int64\n",
       "revenue      int64\n",
       "dtype: object"
      ]
     },
     "execution_count": 186,
     "metadata": {},
     "output_type": "execute_result"
    }
   ],
   "source": [
    "#checking the datatypes\n",
    "df.dtypes"
   ]
  },
  {
   "cell_type": "code",
   "execution_count": 187,
   "id": "332b6b3a-aaa1-4e47-92af-22f674a4072b",
   "metadata": {},
   "outputs": [],
   "source": [
    "#converting the 'date' column from object (i.e string) to datetime data type\n",
    "df['date'] = df['date'].astype('datetime64[ns]')"
   ]
  },
  {
   "cell_type": "code",
   "execution_count": 188,
   "id": "61241620-66c9-49ca-836a-9e7e117e7a68",
   "metadata": {},
   "outputs": [
    {
     "data": {
      "text/plain": [
       "date        datetime64[ns]\n",
       "product             object\n",
       "category            object\n",
       "price                int64\n",
       "quantity             int64\n",
       "revenue              int64\n",
       "dtype: object"
      ]
     },
     "execution_count": 188,
     "metadata": {},
     "output_type": "execute_result"
    }
   ],
   "source": [
    "df.dtypes"
   ]
  },
  {
   "cell_type": "code",
   "execution_count": 189,
   "id": "b8aa5530-0463-4f8b-a9cf-3ea377dfbc5c",
   "metadata": {},
   "outputs": [
    {
     "data": {
      "text/html": [
       "<div>\n",
       "<style scoped>\n",
       "    .dataframe tbody tr th:only-of-type {\n",
       "        vertical-align: middle;\n",
       "    }\n",
       "\n",
       "    .dataframe tbody tr th {\n",
       "        vertical-align: top;\n",
       "    }\n",
       "\n",
       "    .dataframe thead th {\n",
       "        text-align: right;\n",
       "    }\n",
       "</style>\n",
       "<table border=\"1\" class=\"dataframe\">\n",
       "  <thead>\n",
       "    <tr style=\"text-align: right;\">\n",
       "      <th></th>\n",
       "      <th>date</th>\n",
       "      <th>product</th>\n",
       "      <th>category</th>\n",
       "      <th>price</th>\n",
       "      <th>quantity</th>\n",
       "      <th>revenue</th>\n",
       "    </tr>\n",
       "  </thead>\n",
       "  <tbody>\n",
       "    <tr>\n",
       "      <th>0</th>\n",
       "      <td>2022-01-01</td>\n",
       "      <td>Smartphone</td>\n",
       "      <td>Electronics</td>\n",
       "      <td>600</td>\n",
       "      <td>10</td>\n",
       "      <td>6000</td>\n",
       "    </tr>\n",
       "    <tr>\n",
       "      <th>1</th>\n",
       "      <td>2022-01-01</td>\n",
       "      <td>Laptop</td>\n",
       "      <td>Electronics</td>\n",
       "      <td>1200</td>\n",
       "      <td>5</td>\n",
       "      <td>6000</td>\n",
       "    </tr>\n",
       "    <tr>\n",
       "      <th>2</th>\n",
       "      <td>2022-01-02</td>\n",
       "      <td>T-Shirt</td>\n",
       "      <td>Clothing</td>\n",
       "      <td>20</td>\n",
       "      <td>50</td>\n",
       "      <td>1000</td>\n",
       "    </tr>\n",
       "    <tr>\n",
       "      <th>3</th>\n",
       "      <td>2022-01-03</td>\n",
       "      <td>Headphones</td>\n",
       "      <td>Electronics</td>\n",
       "      <td>100</td>\n",
       "      <td>20</td>\n",
       "      <td>2000</td>\n",
       "    </tr>\n",
       "    <tr>\n",
       "      <th>4</th>\n",
       "      <td>2022-01-04</td>\n",
       "      <td>T-Shirt</td>\n",
       "      <td>Clothing</td>\n",
       "      <td>20</td>\n",
       "      <td>25</td>\n",
       "      <td>500</td>\n",
       "    </tr>\n",
       "  </tbody>\n",
       "</table>\n",
       "</div>"
      ],
      "text/plain": [
       "        date     product     category  price  quantity  revenue\n",
       "0 2022-01-01  Smartphone  Electronics    600        10     6000\n",
       "1 2022-01-01      Laptop  Electronics   1200         5     6000\n",
       "2 2022-01-02     T-Shirt     Clothing     20        50     1000\n",
       "3 2022-01-03  Headphones  Electronics    100        20     2000\n",
       "4 2022-01-04     T-Shirt     Clothing     20        25      500"
      ]
     },
     "execution_count": 189,
     "metadata": {},
     "output_type": "execute_result"
    }
   ],
   "source": [
    "df.head()"
   ]
  },
  {
   "cell_type": "markdown",
   "id": "59caeeba-70e0-40e4-b385-1b7a08f781b7",
   "metadata": {},
   "source": [
    "# Step 3: Data Analysis"
   ]
  },
  {
   "cell_type": "markdown",
   "id": "3de8d402-6bc9-4fbe-afe6-3fedd63108ab",
   "metadata": {},
   "source": [
    "### Q1) What was the total revenue generated by the company over the course of the year?"
   ]
  },
  {
   "cell_type": "code",
   "execution_count": 190,
   "id": "d2119dd4-54d7-4e88-93d2-5e03c541c4e8",
   "metadata": {},
   "outputs": [
    {
     "data": {
      "text/plain": [
       "760390"
      ]
     },
     "execution_count": 190,
     "metadata": {},
     "output_type": "execute_result"
    }
   ],
   "source": [
    "#using the sum() method, we can find the total revenue generated by the company over the course of the year\n",
    "df['revenue'].sum()"
   ]
  },
  {
   "cell_type": "markdown",
   "id": "4c757d48-1689-48b2-a119-0659111282b0",
   "metadata": {},
   "source": [
    "### Q2) Which product had the highest revenue? How much revenue did it generate?"
   ]
  },
  {
   "cell_type": "code",
   "execution_count": 191,
   "id": "1e8eed8a-c1ec-42da-a5bb-fd3d24ca15c5",
   "metadata": {},
   "outputs": [
    {
     "data": {
      "image/png": "[encoded data removed]",
      "text/plain": [
       "<Figure size 1500x600 with 1 Axes>"
      ]
     },
     "metadata": {},
     "output_type": "display_data"
    }
   ],
   "source": [
    "plt.figure(figsize=(15,6))\n",
    "sns.barplot(x='product', y='revenue', data=df)\n",
    "plt.xlabel(\"Product\")\n",
    "plt.ylabel(\"Revenue\")\n",
    "plt.title(\"Product Revenue\")\n",
    "plt.show()"
   ]
  },
  {
   "cell_type": "markdown",
   "id": "21fbf154-9ddb-4e33-97ec-caea6991dd54",
   "metadata": {},
   "source": [
    "###### Based on the figure above, Laptops had the highest revenue"
   ]
  },
  {
   "cell_type": "markdown",
   "id": "05e8593f-5efb-4c41-a1bf-80744f4787d9",
   "metadata": {},
   "source": [
    "### To find out the revenue of 'Laptop', I transformed the data to SQL format"
   ]
  },
  {
   "cell_type": "code",
   "execution_count": 192,
   "id": "f5372865-22d1-4dd3-b55b-425e2b193c5c",
   "metadata": {},
   "outputs": [],
   "source": [
    "%reload_ext sql"
   ]
  },
  {
   "cell_type": "code",
   "execution_count": 193,
   "id": "89ca77b1-8aa9-44b5-ba31-df5d773da070",
   "metadata": {},
   "outputs": [],
   "source": [
    "con = sqlite3.connect(\"my_data1.db\")\n",
    "cur = con.cursor()"
   ]
  },
  {
   "cell_type": "code",
   "execution_count": 194,
   "id": "69708b4f-8db3-48af-9911-d4877520235e",
   "metadata": {},
   "outputs": [],
   "source": [
    "%sql sqlite:///my_data1.db"
   ]
  },
  {
   "cell_type": "code",
   "execution_count": 195,
   "id": "870fb3da-cc21-4485-bce2-f8fa07fa7c3c",
   "metadata": {},
   "outputs": [
    {
     "data": {
      "text/plain": [
       "369"
      ]
     },
     "execution_count": 195,
     "metadata": {},
     "output_type": "execute_result"
    }
   ],
   "source": [
    "df.to_sql(\"SALESDATA\", con, if_exists='replace', index=False,method=\"multi\")"
   ]
  },
  {
   "cell_type": "code",
   "execution_count": 196,
   "id": "6f2b9205-a2b2-48f3-bf48-64fc441cc88d",
   "metadata": {},
   "outputs": [
    {
     "name": "stdout",
     "output_type": "stream",
     "text": [
      " * sqlite:///my_data1.db\n",
      "(sqlite3.OperationalError) table SALESDATATABLE already exists\n",
      "[SQL: create table SALESDATATABLE as select * from SALESDATA where Date is not null]\n",
      "(Background on this error at: https://sqlalche.me/e/20/e3q8)\n"
     ]
    }
   ],
   "source": [
    "%sql create table SALESDATATABLE as select * from SALESDATA where Date is not null"
   ]
  },
  {
   "cell_type": "code",
   "execution_count": 197,
   "id": "68301445-77b6-4b66-a9ec-90ca0de31485",
   "metadata": {},
   "outputs": [
    {
     "name": "stdout",
     "output_type": "stream",
     "text": [
      " * sqlite:///my_data1.db\n",
      "Done.\n"
     ]
    },
    {
     "data": {
      "text/html": [
       "<table>\n",
       "    <thead>\n",
       "        <tr>\n",
       "            <th>Laptop_total_revenue</th>\n",
       "        </tr>\n",
       "    </thead>\n",
       "    <tbody>\n",
       "        <tr>\n",
       "            <td>6000</td>\n",
       "        </tr>\n",
       "    </tbody>\n",
       "</table>"
      ],
      "text/plain": [
       "[(6000,)]"
      ]
     },
     "execution_count": 197,
     "metadata": {},
     "output_type": "execute_result"
    }
   ],
   "source": [
    "#using sum method, I calculate the total revenue of the 'Laptop' product\n",
    "%sql select sum(revenue) as Laptop_total_revenue from SALESDATATABLE where product = 'Laptop'"
   ]
  },
  {
   "cell_type": "markdown",
   "id": "abdfb7f9-4412-48cb-9a8a-0291d685df7f",
   "metadata": {},
   "source": [
    "### Q3) What was the average price of a product sold by the company?"
   ]
  },
  {
   "cell_type": "code",
   "execution_count": 198,
   "id": "9efdaab9-b591-47e1-aa25-398390e53c68",
   "metadata": {},
   "outputs": [
    {
     "name": "stdout",
     "output_type": "stream",
     "text": [
      " * sqlite:///my_data1.db\n",
      "Done.\n"
     ]
    },
    {
     "data": {
      "text/html": [
       "<table>\n",
       "    <thead>\n",
       "        <tr>\n",
       "            <th>avg_price</th>\n",
       "        </tr>\n",
       "    </thead>\n",
       "    <tbody>\n",
       "        <tr>\n",
       "            <td>211.2249322493225</td>\n",
       "        </tr>\n",
       "    </tbody>\n",
       "</table>"
      ],
      "text/plain": [
       "[(211.2249322493225,)]"
      ]
     },
     "execution_count": 198,
     "metadata": {},
     "output_type": "execute_result"
    }
   ],
   "source": [
    "%sql select avg(price) as avg_price from SALESDATATABLE"
   ]
  },
  {
   "cell_type": "markdown",
   "id": "c17fe8fe-7dd6-49ff-9070-bdf3da4de532",
   "metadata": {},
   "source": [
    "### Q4) What was the total quantity of products sold by the company?"
   ]
  },
  {
   "cell_type": "code",
   "execution_count": 199,
   "id": "f27f4d60-2dd7-4455-ba46-1542e2493bdd",
   "metadata": {},
   "outputs": [
    {
     "name": "stdout",
     "output_type": "stream",
     "text": [
      " * sqlite:///my_data1.db\n",
      "Done.\n"
     ]
    },
    {
     "data": {
      "text/html": [
       "<table>\n",
       "    <thead>\n",
       "        <tr>\n",
       "            <th>product</th>\n",
       "            <th>total_quantity</th>\n",
       "        </tr>\n",
       "    </thead>\n",
       "    <tbody>\n",
       "        <tr>\n",
       "            <td>Backpack</td>\n",
       "            <td>408</td>\n",
       "        </tr>\n",
       "        <tr>\n",
       "            <td>Coat</td>\n",
       "            <td>338</td>\n",
       "        </tr>\n",
       "        <tr>\n",
       "            <td>Headphones</td>\n",
       "            <td>180</td>\n",
       "        </tr>\n",
       "        <tr>\n",
       "            <td>Hoodie</td>\n",
       "            <td>525</td>\n",
       "        </tr>\n",
       "        <tr>\n",
       "            <td>Jeans</td>\n",
       "            <td>413</td>\n",
       "        </tr>\n",
       "        <tr>\n",
       "            <td>Laptop</td>\n",
       "            <td>5</td>\n",
       "        </tr>\n",
       "        <tr>\n",
       "            <td>Smartphone</td>\n",
       "            <td>727</td>\n",
       "        </tr>\n",
       "        <tr>\n",
       "            <td>Smartwatch</td>\n",
       "            <td>304</td>\n",
       "        </tr>\n",
       "        <tr>\n",
       "            <td>Sneakers</td>\n",
       "            <td>270</td>\n",
       "        </tr>\n",
       "        <tr>\n",
       "            <td>Speaker</td>\n",
       "            <td>496</td>\n",
       "        </tr>\n",
       "        <tr>\n",
       "            <td>T-Shirt</td>\n",
       "            <td>1005</td>\n",
       "        </tr>\n",
       "        <tr>\n",
       "            <td>Tablet</td>\n",
       "            <td>45</td>\n",
       "        </tr>\n",
       "        <tr>\n",
       "            <td>Wallet</td>\n",
       "            <td>440</td>\n",
       "        </tr>\n",
       "        <tr>\n",
       "            <td>Watch</td>\n",
       "            <td>218</td>\n",
       "        </tr>\n",
       "    </tbody>\n",
       "</table>"
      ],
      "text/plain": [
       "[('Backpack', 408),\n",
       " ('Coat', 338),\n",
       " ('Headphones', 180),\n",
       " ('Hoodie', 525),\n",
       " ('Jeans', 413),\n",
       " ('Laptop', 5),\n",
       " ('Smartphone', 727),\n",
       " ('Smartwatch', 304),\n",
       " ('Sneakers', 270),\n",
       " ('Speaker', 496),\n",
       " ('T-Shirt', 1005),\n",
       " ('Tablet', 45),\n",
       " ('Wallet', 440),\n",
       " ('Watch', 218)]"
      ]
     },
     "execution_count": 199,
     "metadata": {},
     "output_type": "execute_result"
    }
   ],
   "source": [
    "#total quantity of each product sold\n",
    "%sql select product, sum(quantity) as total_quantity from SALESDATATABLE group by product"
   ]
  },
  {
   "cell_type": "code",
   "execution_count": 200,
   "id": "1ab78c5a-5dae-4c78-9ca5-b71560c150e3",
   "metadata": {},
   "outputs": [
    {
     "name": "stdout",
     "output_type": "stream",
     "text": [
      " * sqlite:///my_data1.db\n",
      "Done.\n"
     ]
    },
    {
     "data": {
      "text/html": [
       "<table>\n",
       "    <thead>\n",
       "        <tr>\n",
       "            <th>total_quantity</th>\n",
       "        </tr>\n",
       "    </thead>\n",
       "    <tbody>\n",
       "        <tr>\n",
       "            <td>5374</td>\n",
       "        </tr>\n",
       "    </tbody>\n",
       "</table>"
      ],
      "text/plain": [
       "[(5374,)]"
      ]
     },
     "execution_count": 200,
     "metadata": {},
     "output_type": "execute_result"
    }
   ],
   "source": [
    "#total quantity of all products sold\n",
    "%sql select sum(quantity) as total_quantity from SALESDATATABLE"
   ]
  },
  {
   "cell_type": "markdown",
   "id": "1c927911-bb26-44a8-851b-486daf9094fc",
   "metadata": {},
   "source": [
    "### Q5) Which category had the highest revenue? How much revenue did it generate?"
   ]
  },
  {
   "cell_type": "code",
   "execution_count": 201,
   "id": "186dade1-3ef0-47eb-a902-a4b3efdb73f2",
   "metadata": {},
   "outputs": [
    {
     "name": "stdout",
     "output_type": "stream",
     "text": [
      " * sqlite:///my_data1.db\n",
      "Done.\n"
     ]
    },
    {
     "data": {
      "text/html": [
       "<table>\n",
       "    <thead>\n",
       "        <tr>\n",
       "            <th>category</th>\n",
       "            <th>revenue</th>\n",
       "        </tr>\n",
       "    </thead>\n",
       "    <tbody>\n",
       "        <tr>\n",
       "            <td>Electronics</td>\n",
       "            <td>6000</td>\n",
       "        </tr>\n",
       "        <tr>\n",
       "            <td>Accessories</td>\n",
       "            <td>1500</td>\n",
       "        </tr>\n",
       "        <tr>\n",
       "            <td>Clothing</td>\n",
       "            <td>1000</td>\n",
       "        </tr>\n",
       "        <tr>\n",
       "            <td>Bags</td>\n",
       "            <td>1000</td>\n",
       "        </tr>\n",
       "        <tr>\n",
       "            <td>Shoes</td>\n",
       "            <td>800</td>\n",
       "        </tr>\n",
       "    </tbody>\n",
       "</table>"
      ],
      "text/plain": [
       "[('Electronics', 6000),\n",
       " ('Accessories', 1500),\n",
       " ('Clothing', 1000),\n",
       " ('Bags', 1000),\n",
       " ('Shoes', 800)]"
      ]
     },
     "execution_count": 201,
     "metadata": {},
     "output_type": "execute_result"
    }
   ],
   "source": [
    "%sql select category, revenue from SALESDATATABLE group by category order by revenue desc"
   ]
  },
  {
   "cell_type": "markdown",
   "id": "67eaef9c-7f05-4338-8785-930ebc5d5ea2",
   "metadata": {},
   "source": [
    "### Q6) What was the average revenue per sale?"
   ]
  },
  {
   "cell_type": "code",
   "execution_count": 202,
   "id": "12b118f1-abc9-43b8-bda8-04d9c8b622f9",
   "metadata": {},
   "outputs": [
    {
     "name": "stdout",
     "output_type": "stream",
     "text": [
      " * sqlite:///my_data1.db\n",
      "Done.\n"
     ]
    },
    {
     "data": {
      "text/html": [
       "<table>\n",
       "    <thead>\n",
       "        <tr>\n",
       "            <th>avg_revenue</th>\n",
       "        </tr>\n",
       "    </thead>\n",
       "    <tbody>\n",
       "        <tr>\n",
       "            <td>2060.6775067750677</td>\n",
       "        </tr>\n",
       "    </tbody>\n",
       "</table>"
      ],
      "text/plain": [
       "[(2060.6775067750677,)]"
      ]
     },
     "execution_count": 202,
     "metadata": {},
     "output_type": "execute_result"
    }
   ],
   "source": [
    "%sql select avg(revenue) as avg_revenue from SALESDATATABLE"
   ]
  },
  {
   "cell_type": "markdown",
   "id": "54c57fe8-7473-4728-bf37-85dfdd25067c",
   "metadata": {},
   "source": [
    "### Q7) What was the total revenue generated in each quarter of the year? (i.e. Q1, Q2, Q3, Q4)"
   ]
  },
  {
   "cell_type": "code",
   "execution_count": 203,
   "id": "28c3ab10-cbc6-495f-bee5-ad117707953e",
   "metadata": {},
   "outputs": [
    {
     "name": "stdout",
     "output_type": "stream",
     "text": [
      " * sqlite:///my_data1.db\n",
      "Done.\n"
     ]
    },
    {
     "data": {
      "text/html": [
       "<table>\n",
       "    <thead>\n",
       "        <tr>\n",
       "            <th>Q1_revenue</th>\n",
       "        </tr>\n",
       "    </thead>\n",
       "    <tbody>\n",
       "        <tr>\n",
       "            <td>175500</td>\n",
       "        </tr>\n",
       "    </tbody>\n",
       "</table>"
      ],
      "text/plain": [
       "[(175500,)]"
      ]
     },
     "execution_count": 203,
     "metadata": {},
     "output_type": "execute_result"
    }
   ],
   "source": [
    "#total revenue for Q1\n",
    "%sql select sum(revenue) as Q1_revenue from SALESDATATABLE where date between '2022-01-01' and '2022-03-31'"
   ]
  },
  {
   "cell_type": "code",
   "execution_count": 204,
   "id": "71ca80c3-6c89-410b-9bce-8e274cdfa053",
   "metadata": {},
   "outputs": [
    {
     "name": "stdout",
     "output_type": "stream",
     "text": [
      " * sqlite:///my_data1.db\n",
      "Done.\n"
     ]
    },
    {
     "data": {
      "text/html": [
       "<table>\n",
       "    <thead>\n",
       "        <tr>\n",
       "            <th>Q2_revenue</th>\n",
       "        </tr>\n",
       "    </thead>\n",
       "    <tbody>\n",
       "        <tr>\n",
       "            <td>186030</td>\n",
       "        </tr>\n",
       "    </tbody>\n",
       "</table>"
      ],
      "text/plain": [
       "[(186030,)]"
      ]
     },
     "execution_count": 204,
     "metadata": {},
     "output_type": "execute_result"
    }
   ],
   "source": [
    "#total revenue for Q2\n",
    "%sql select sum(revenue) as Q2_revenue from SALESDATATABLE where date between '2022-04-01' and '2022-06-31'"
   ]
  },
  {
   "cell_type": "code",
   "execution_count": 205,
   "id": "00afd434-a502-4b07-986e-439c0abdfcae",
   "metadata": {},
   "outputs": [
    {
     "name": "stdout",
     "output_type": "stream",
     "text": [
      " * sqlite:///my_data1.db\n",
      "Done.\n"
     ]
    },
    {
     "data": {
      "text/html": [
       "<table>\n",
       "    <thead>\n",
       "        <tr>\n",
       "            <th>Q3_revenue</th>\n",
       "        </tr>\n",
       "    </thead>\n",
       "    <tbody>\n",
       "        <tr>\n",
       "            <td>197680</td>\n",
       "        </tr>\n",
       "    </tbody>\n",
       "</table>"
      ],
      "text/plain": [
       "[(197680,)]"
      ]
     },
     "execution_count": 205,
     "metadata": {},
     "output_type": "execute_result"
    }
   ],
   "source": [
    "#total revenue for Q3\n",
    "%sql select sum(revenue) as Q3_revenue from SALESDATATABLE where date between '2022-07-01' and '2022-09-31'"
   ]
  },
  {
   "cell_type": "code",
   "execution_count": 206,
   "id": "a5efbd69-a906-4ad0-9b5a-a5f0afbc4f60",
   "metadata": {},
   "outputs": [
    {
     "name": "stdout",
     "output_type": "stream",
     "text": [
      " * sqlite:///my_data1.db\n",
      "Done.\n"
     ]
    },
    {
     "data": {
      "text/html": [
       "<table>\n",
       "    <thead>\n",
       "        <tr>\n",
       "            <th>Q4_revenue</th>\n",
       "        </tr>\n",
       "    </thead>\n",
       "    <tbody>\n",
       "        <tr>\n",
       "            <td>194580</td>\n",
       "        </tr>\n",
       "    </tbody>\n",
       "</table>"
      ],
      "text/plain": [
       "[(194580,)]"
      ]
     },
     "execution_count": 206,
     "metadata": {},
     "output_type": "execute_result"
    }
   ],
   "source": [
    "#total revenue for Q4\n",
    "%sql select sum(revenue) as Q4_revenue from SALESDATATABLE where date between '2022-10-01' and '2023-01-31'"
   ]
  }
 ],
 "metadata": {
  "kernelspec": {
   "display_name": "Python 3 (ipykernel)",
   "language": "python",
   "name": "python3"
  },
  "language_info": {
   "codemirror_mode": {
    "name": "ipython",
    "version": 3
   },
   "file_extension": ".py",
   "mimetype": "text/x-python",
   "name": "python",
   "nbconvert_exporter": "python",
   "pygments_lexer": "ipython3",
   "version": "3.11.7"
  }
 },
 "nbformat": 4,
 "nbformat_minor": 5
}
